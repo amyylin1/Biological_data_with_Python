{
 "cells": [
  {
   "cell_type": "code",
   "execution_count": null,
   "metadata": {},
   "outputs": [],
   "source": [
    "import sys\n",
    "from Bio.PDB import PDBParser\n",
    "\n",
    "file_path = 'Users/yinglin/Desktop/test/6lu7.pdb'\n",
    "\n",
    "def extract_pdb_info(file_path):\n",
    "    \n",
    "    # Create a PDB parser\n",
    "    parser = PDBParser(QUIET=True)\n",
    "\n",
    "    # parse the pdb files\n",
    "\n",
    "    # extract inform of the structure\n",
    "\n",
    "    # extract chain #\n",
    "\n",
    "    # extract residue count\n",
    "\n",
    "    # extract atom count\n",
    "\n",
    "    # print infor.\n",
    "\n",
    "    \n",
    "\n",
    "    "
   ]
  }
 ],
 "metadata": {
  "language_info": {
   "name": "python"
  }
 },
 "nbformat": 4,
 "nbformat_minor": 2
}
